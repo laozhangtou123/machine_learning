{
 "cells": [
  {
   "cell_type": "code",
   "execution_count": 9,
   "metadata": {},
   "outputs": [
    {
     "data": {
      "text/plain": [
       "array([1, 2, 3])"
      ]
     },
     "execution_count": 9,
     "metadata": {},
     "output_type": "execute_result"
    }
   ],
   "source": [
    "#numpy的相关操作\n",
    "#array构建矩阵\n",
    "import numpy as np\n",
    "a=np.array([1,2,3])\n",
    "a"
   ]
  },
  {
   "cell_type": "code",
   "execution_count": 11,
   "metadata": {},
   "outputs": [
    {
     "name": "stdout",
     "output_type": "stream",
     "text": [
      "int32\n"
     ]
    }
   ],
   "source": [
    "a=np.array([1,2,2],dtype=np.int)\n",
    "print(a.dtype)"
   ]
  },
  {
   "cell_type": "code",
   "execution_count": 12,
   "metadata": {},
   "outputs": [
    {
     "name": "stdout",
     "output_type": "stream",
     "text": [
      "int64\n"
     ]
    }
   ],
   "source": [
    "a=np.array([1,2,2],dtype=np.int64)\n",
    "print(a.dtype)"
   ]
  },
  {
   "cell_type": "code",
   "execution_count": 13,
   "metadata": {},
   "outputs": [
    {
     "name": "stdout",
     "output_type": "stream",
     "text": [
      "[1. 2. 2.]\n",
      "float64\n"
     ]
    }
   ],
   "source": [
    "a=np.array([1,2,2],dtype=np.float)\n",
    "print(a)\n",
    "print(a.dtype)"
   ]
  },
  {
   "cell_type": "code",
   "execution_count": 14,
   "metadata": {},
   "outputs": [
    {
     "name": "stdout",
     "output_type": "stream",
     "text": [
      "[[1 2 3]\n",
      " [4 5 6]]\n"
     ]
    }
   ],
   "source": [
    "a=np.array([[1,2,3],\n",
    "            [4,5,6]])\n",
    "print(a)"
   ]
  },
  {
   "cell_type": "code",
   "execution_count": 16,
   "metadata": {},
   "outputs": [
    {
     "data": {
      "text/plain": [
       "array([[0, 0, 0, 0],\n",
       "       [0, 0, 0, 0],\n",
       "       [0, 0, 0, 0]])"
      ]
     },
     "execution_count": 16,
     "metadata": {},
     "output_type": "execute_result"
    }
   ],
   "source": [
    "#构建全为0的矩阵\n",
    "a=np.zeros((3,4),dtype=np.int)\n",
    "a"
   ]
  },
  {
   "cell_type": "code",
   "execution_count": 18,
   "metadata": {},
   "outputs": [
    {
     "data": {
      "text/plain": [
       "array([[1., 1., 1., 1.],\n",
       "       [1., 1., 1., 1.],\n",
       "       [1., 1., 1., 1.]])"
      ]
     },
     "execution_count": 18,
     "metadata": {},
     "output_type": "execute_result"
    }
   ],
   "source": [
    "#构建全为1的矩阵\n",
    "a=np.ones((3,4))\n",
    "a"
   ]
  },
  {
   "cell_type": "code",
   "execution_count": 20,
   "metadata": {},
   "outputs": [
    {
     "data": {
      "text/plain": [
       "array([[1., 1., 1., 1.],\n",
       "       [1., 1., 1., 1.],\n",
       "       [1., 1., 1., 1.]])"
      ]
     },
     "execution_count": 20,
     "metadata": {},
     "output_type": "execute_result"
    }
   ],
   "source": [
    "#构建为空的矩阵\n",
    "a=np.empty((3,4),dtype=np.float)\n",
    "a"
   ]
  },
  {
   "cell_type": "code",
   "execution_count": 21,
   "metadata": {},
   "outputs": [
    {
     "data": {
      "text/plain": [
       "array([10, 12, 14, 16, 18])"
      ]
     },
     "execution_count": 21,
     "metadata": {},
     "output_type": "execute_result"
    }
   ],
   "source": [
    "#arange类似于range,arange(起始值，终值，步长)，不包含终值\n",
    "a=np.arange(10,20,2)\n",
    "a"
   ]
  },
  {
   "cell_type": "code",
   "execution_count": 22,
   "metadata": {},
   "outputs": [
    {
     "data": {
      "text/plain": [
       "array([[ 0,  1,  2,  3],\n",
       "       [ 4,  5,  6,  7],\n",
       "       [ 8,  9, 10, 11]])"
      ]
     },
     "execution_count": 22,
     "metadata": {},
     "output_type": "execute_result"
    }
   ],
   "source": [
    "a=np.arange(12).reshape((3,4))\n",
    "a"
   ]
  },
  {
   "cell_type": "code",
   "execution_count": 23,
   "metadata": {},
   "outputs": [
    {
     "data": {
      "text/plain": [
       "array([ 1.  ,  3.25,  5.5 ,  7.75, 10.  ])"
      ]
     },
     "execution_count": 23,
     "metadata": {},
     "output_type": "execute_result"
    }
   ],
   "source": [
    "#linspace(起始值，终值，线段数),包含起始值和终值\n",
    "a=np.linspace(1,12,5)\n",
    "a"
   ]
  },
  {
   "cell_type": "code",
   "execution_count": 24,
   "metadata": {},
   "outputs": [
    {
     "data": {
      "text/plain": [
       "array([[ 1. ,  3.2,  5.4],\n",
       "       [ 7.6,  9.8, 12. ]])"
      ]
     },
     "execution_count": 24,
     "metadata": {},
     "output_type": "execute_result"
    }
   ],
   "source": [
    "a=np.linspace(1,12,6).reshape((2,3))\n",
    "a"
   ]
  },
  {
   "cell_type": "code",
   "execution_count": 36,
   "metadata": {},
   "outputs": [
    {
     "name": "stdout",
     "output_type": "stream",
     "text": [
      "[[ 0  1  2  3]\n",
      " [ 4  5  6  7]\n",
      " [ 8  9 10 11]]\n",
      "[1 2 2 5]\n",
      "[[ True  True  True  True]\n",
      " [False False False False]\n",
      " [False False False False]]\n"
     ]
    }
   ],
   "source": [
    "#numpy的基础运算\n",
    "a=np.arange(12).reshape((3,4))\n",
    "b=np.array([1,2,2,5])\n",
    "c=a+b\n",
    "d=a-b\n",
    "e=a*b\n",
    "f=a**2  #**n表示n次方\n",
    "g=np.array(100*np.sin(a),dtype=np.int)\n",
    "print(a)\n",
    "print(b)\n",
    "# print(c)\n",
    "# print(d)\n",
    "# print(e)\n",
    "# print(f)\n",
    "# print(g)\n",
    "print(a<4)\n"
   ]
  },
  {
   "cell_type": "code",
   "execution_count": 38,
   "metadata": {},
   "outputs": [
    {
     "name": "stdout",
     "output_type": "stream",
     "text": [
      "[[0 1]\n",
      " [1 2]]\n",
      "[[0 1]\n",
      " [2 3]]\n",
      "[[2 3]\n",
      " [4 7]]\n"
     ]
    }
   ],
   "source": [
    "#矩阵运算\n",
    "a=np.array([[0,1],\n",
    "            [1,2]])\n",
    "b=np.arange(4).reshape((2,2))\n",
    "c=np.dot(a,b) #dot表示矩阵相乘\n",
    "print(a)\n",
    "print(b)\n",
    "print(c)"
   ]
  },
  {
   "cell_type": "code",
   "execution_count": 45,
   "metadata": {},
   "outputs": [
    {
     "name": "stdout",
     "output_type": "stream",
     "text": [
      "[[0.39346826 0.50506308 0.16008235 0.33697587]\n",
      " [0.90070261 0.46862757 0.21629691 0.14580195]\n",
      " [0.29519958 0.04952719 0.06590737 0.56498667]]\n",
      "4.102639413913908\n",
      "0.900702612504649\n",
      "0.04952719218436574\n",
      "[0.90070261 0.50506308 0.21629691 0.56498667]\n",
      "[0.50506308 0.90070261 0.56498667]\n"
     ]
    }
   ],
   "source": [
    "#np.random.random（（m,n））表示构建m行n列的0-1的随机数矩阵\n",
    "a=np.random.random((3,4))\n",
    "print(a)\n",
    "print(a.sum())    #等同于print(np.sum(a))\n",
    "print(a.max())    #等同于print(np.max(a))\n",
    "print(a.min())    #等同于print(np.min(a))\n",
    "print(np.max(a,axis=0))     #axis=0表示列\n",
    "print(np.max(a,axis=1))     #axis=1表示行"
   ]
  },
  {
   "cell_type": "code",
   "execution_count": 61,
   "metadata": {},
   "outputs": [
    {
     "name": "stdout",
     "output_type": "stream",
     "text": [
      "[[ 1  2  3  4]\n",
      " [ 5  6  7  8]\n",
      " [ 9 10 11 12]]\n",
      "0\n",
      "11\n",
      "6.5\n",
      "6.5\n",
      "[ 1  3  6 10 15 21 28 36 45 55 66 78]\n",
      "[[1 1 1]\n",
      " [1 1 1]\n",
      " [1 1 1]]\n",
      "(array([0, 0, 0, 0, 1, 1, 1, 1, 2, 2, 2, 2], dtype=int32), array([0, 1, 2, 3, 0, 1, 2, 3, 0, 1, 2, 3], dtype=int32))\n",
      "[[ 1  2  3  4]\n",
      " [ 5  6  7  8]\n",
      " [ 9 10 11 12]]\n",
      "[[ 1  5  9]\n",
      " [ 2  6 10]\n",
      " [ 3  7 11]\n",
      " [ 4  8 12]]\n",
      "[[5 5 5 5]\n",
      " [5 6 7 8]\n",
      " [9 9 9 9]]\n",
      "[5. 6. 7. 8.]\n"
     ]
    }
   ],
   "source": [
    "a= np.arange(1,13).reshape((3,4))\n",
    "print(a)\n",
    "print(np.argmin(a))  #最小值的索引\n",
    "print(np.argmax(a))  #最大值得索引\n",
    "print(np.mean(a))    #矩阵的平均值\n",
    "print(np.average(a)) #矩阵的平均值\n",
    "print(np.cumsum(a))  #累积和\n",
    "print(np.diff(a))    #后一个数减去前一个数\n",
    "print(np.nonzero(a)) #非零数索引\n",
    "print(np.sort(a))    #排序\n",
    "print(a.T)           #转置矩阵\n",
    "print(np.clip(a,5,9)) #小于5的数全为5，大于9的数全为9\n",
    "print(np.mean(a,axis=0))  "
   ]
  },
  {
   "cell_type": "code",
   "execution_count": 63,
   "metadata": {},
   "outputs": [
    {
     "name": "stdout",
     "output_type": "stream",
     "text": [
      "[ 3  4  5  6  7  8  9 10 11 12 13 14]\n",
      "5\n"
     ]
    }
   ],
   "source": [
    "#numpy的索引\n",
    "#一维索引\n",
    "a=np.arange(3,15)\n",
    "print(a)\n",
    "print(a[2])"
   ]
  },
  {
   "cell_type": "code",
   "execution_count": 67,
   "metadata": {},
   "outputs": [
    {
     "name": "stdout",
     "output_type": "stream",
     "text": [
      "[[ 3  4  5  6]\n",
      " [ 7  8  9 10]\n",
      " [11 12 13 14]]\n",
      "9\n",
      "[11 12 13 14]\n",
      "[ 5  9 13]\n"
     ]
    }
   ],
   "source": [
    "#多维索引\n",
    "a=np.arange(3,15).reshape((3,4))\n",
    "print(a)\n",
    "print(a[1,2])  #索引单个值\n",
    "print(a[2])    #索引行\n",
    "print(a[:,2])  #索引列"
   ]
  },
  {
   "cell_type": "code",
   "execution_count": 70,
   "metadata": {},
   "outputs": [
    {
     "name": "stdout",
     "output_type": "stream",
     "text": [
      "[[ 3  4  5  6]\n",
      " [ 7  8  9 10]\n",
      " [11 12 13 14]]\n",
      "[3 4 5 6]\n",
      "[ 7  8  9 10]\n",
      "[11 12 13 14]\n",
      "[ 3  7 11]\n",
      "[ 4  8 12]\n",
      "[ 5  9 13]\n",
      "[ 6 10 14]\n"
     ]
    }
   ],
   "source": [
    "#for循环迭代矩阵获取*行*\n",
    "a=np.arange(3,15).reshape((3,4))\n",
    "print(a)\n",
    "for row in a:  \n",
    "    print(row)\n",
    "for col in a.T:  #通过转置获取列\n",
    "    print(col)   "
   ]
  },
  {
   "cell_type": "code",
   "execution_count": 72,
   "metadata": {},
   "outputs": [
    {
     "name": "stdout",
     "output_type": "stream",
     "text": [
      "[[ 3  4  5  6]\n",
      " [ 7  8  9 10]\n",
      " [11 12 13 14]]\n",
      "[ 3  4  5  6  7  8  9 10 11 12 13 14]\n",
      "3\n",
      "4\n",
      "5\n",
      "6\n",
      "7\n",
      "8\n",
      "9\n",
      "10\n",
      "11\n",
      "12\n",
      "13\n",
      "14\n"
     ]
    }
   ],
   "source": [
    "#flatten()将矩阵变为1行m列列表\n",
    "a=a=np.arange(3,15).reshape((3,4))\n",
    "print(a)\n",
    "print(a.flatten())\n",
    "for i in a.flat:\n",
    "    print(i)"
   ]
  },
  {
   "cell_type": "code",
   "execution_count": 94,
   "metadata": {},
   "outputs": [
    {
     "name": "stdout",
     "output_type": "stream",
     "text": [
      "[[1 1 1]\n",
      " [2 2 2]\n",
      " [1 1 1]\n",
      " [2 2 2]]\n",
      "[1 1 1 2 2 2]\n",
      "[[1]\n",
      " [1]\n",
      " [1]]\n",
      "[[1 1 1]]\n",
      "[1 1 1 2 2 2 1 1 1 2 2 2]\n"
     ]
    }
   ],
   "source": [
    "#arry合并\n",
    "a=np.array([1,1,1])\n",
    "b=np.array([2,2,2])\n",
    "print(np.vstack((a,b,a,b)))  #vertical stack 垂直合并\n",
    "print(np.hstack((a,b)))  #horizontal stack 水平合并\n",
    "print(a[:,np.newaxis])    #在列上加一个维度\n",
    "print(a[np.newaxis,:])    #在行上加一个维度\n",
    "c=np.concatenate((a,b,a,b),axis=0)      #concatenate()可以在内部指定纵向或横向合并\n",
    "print(c)"
   ]
  },
  {
   "cell_type": "code",
   "execution_count": 103,
   "metadata": {},
   "outputs": [
    {
     "name": "stdout",
     "output_type": "stream",
     "text": [
      "[[ 0  1  2  3]\n",
      " [ 4  5  6  7]\n",
      " [ 8  9 10 11]]\n",
      "[array([[0, 1, 2, 3]]), array([[4, 5, 6, 7]]), array([[ 8,  9, 10, 11]])]\n",
      "[array([[0, 1],\n",
      "       [4, 5],\n",
      "       [8, 9]]), array([[ 2,  3],\n",
      "       [ 6,  7],\n",
      "       [10, 11]])]\n"
     ]
    }
   ],
   "source": [
    "#arry的分割\n",
    "#split()只能相等分割\n",
    "a=np.arange(12).reshape((3,4))\n",
    "print(a)\n",
    "print(np.split(a,3,axis=0))   #按行分成3块\n",
    "print(np.split(a,2,axis=1))   #按列分成2块"
   ]
  },
  {
   "cell_type": "code",
   "execution_count": 104,
   "metadata": {},
   "outputs": [
    {
     "name": "stdout",
     "output_type": "stream",
     "text": [
      "[[ 0  1  2  3]\n",
      " [ 4  5  6  7]\n",
      " [ 8  9 10 11]]\n",
      "[array([[0, 1, 2, 3],\n",
      "       [4, 5, 6, 7]]), array([[ 8,  9, 10, 11]])]\n"
     ]
    }
   ],
   "source": [
    "#array_split()将矩阵不等分割\n",
    "a=np.arange(12).reshape((3,4))\n",
    "print(a)\n",
    "print(np.array_split(a,2,axis=0))"
   ]
  },
  {
   "cell_type": "code",
   "execution_count": 106,
   "metadata": {},
   "outputs": [
    {
     "name": "stdout",
     "output_type": "stream",
     "text": [
      "[array([[0, 1],\n",
      "       [4, 5],\n",
      "       [8, 9]]), array([[ 2,  3],\n",
      "       [ 6,  7],\n",
      "       [10, 11]])]\n",
      "[array([[0, 1, 2, 3]]), array([[4, 5, 6, 7]]), array([[ 8,  9, 10, 11]])]\n"
     ]
    }
   ],
   "source": [
    "#vsplit()纵向分割\n",
    "#hsplit()横向分割\n",
    "a=np.arange(12).reshape((3,4))\n",
    "print(np.hsplit(a,2))\n",
    "print(np.vsplit(a,3))"
   ]
  },
  {
   "cell_type": "code",
   "execution_count": 110,
   "metadata": {},
   "outputs": [
    {
     "name": "stdout",
     "output_type": "stream",
     "text": [
      "[[100   1   2   3]\n",
      " [  4   5   6   7]\n",
      " [  8   9  10  11]]\n",
      "[[100   1   2   3]\n",
      " [  4   5   6   7]\n",
      " [  8   9  10  11]]\n",
      "[[100   1   2   3]\n",
      " [  4   5   6   7]\n",
      " [  8   9  10  11]]\n"
     ]
    },
    {
     "data": {
      "text/plain": [
       "True"
      ]
     },
     "execution_count": 110,
     "metadata": {},
     "output_type": "execute_result"
    }
   ],
   "source": [
    "#arry的赋值\n",
    "a=np.arange(12).reshape((3,4))\n",
    "b=a\n",
    "c=b\n",
    "a[0,0]=100\n",
    "print(a)\n",
    "print(b)\n",
    "print(c)\n",
    "# b is a\n",
    "c is a\n"
   ]
  },
  {
   "cell_type": "code",
   "execution_count": 112,
   "metadata": {},
   "outputs": [
    {
     "name": "stdout",
     "output_type": "stream",
     "text": [
      "[[100   1   2   3]\n",
      " [  4   5   6   7]\n",
      " [  8   9  10  11]]\n",
      "[[ 0  1  2  3]\n",
      " [ 4  5  6  7]\n",
      " [ 8  9 10 11]]\n"
     ]
    }
   ],
   "source": [
    "#copy()\n",
    "a=np.arange(12).reshape((3,4))\n",
    "b=np.copy(a)\n",
    "# print(b)\n",
    "a[0,0]=100\n",
    "print(a)\n",
    "print(b)\n"
   ]
  }
 ],
 "metadata": {
  "kernelspec": {
   "display_name": "Python 3",
   "language": "python",
   "name": "python3"
  },
  "language_info": {
   "codemirror_mode": {
    "name": "ipython",
    "version": 3
   },
   "file_extension": ".py",
   "mimetype": "text/x-python",
   "name": "python",
   "nbconvert_exporter": "python",
   "pygments_lexer": "ipython3",
   "version": "3.7.0"
  }
 },
 "nbformat": 4,
 "nbformat_minor": 2
}
