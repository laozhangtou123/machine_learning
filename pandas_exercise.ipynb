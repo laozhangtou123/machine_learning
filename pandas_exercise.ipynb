{
 "cells": [
  {
   "cell_type": "code",
   "execution_count": 4,
   "metadata": {},
   "outputs": [
    {
     "name": "stdout",
     "output_type": "stream",
     "text": [
      "0     1.0\n",
      "1    23.0\n",
      "2     4.0\n",
      "3     NaN\n",
      "4     8.0\n",
      "dtype: float64\n"
     ]
    }
   ],
   "source": [
    "import pandas as pd\n",
    "import numpy as np\n",
    "import matplotlib.pyplot as plt\n",
    "s=pd.Series([1,23,4,np.nan,8])\n",
    "print(s)"
   ]
  },
  {
   "cell_type": "code",
   "execution_count": 7,
   "metadata": {},
   "outputs": [
    {
     "name": "stdout",
     "output_type": "stream",
     "text": [
      "DatetimeIndex(['2019-02-13', '2019-02-14', '2019-02-15', '2019-02-16',\n",
      "               '2019-02-17', '2019-02-18'],\n",
      "              dtype='datetime64[ns]', freq='D')\n"
     ]
    }
   ],
   "source": [
    "dates=pd.date_range('20190213',periods=6)\n",
    "print(dates)"
   ]
  },
  {
   "cell_type": "code",
   "execution_count": 9,
   "metadata": {},
   "outputs": [
    {
     "name": "stdout",
     "output_type": "stream",
     "text": [
      "                   a         b         c         d\n",
      "2019-02-13 -0.498402 -2.110769  3.009897  1.415447\n",
      "2019-02-14  1.110756  0.800720  0.272875 -0.063147\n",
      "2019-02-15  0.078408  0.168049 -1.241725  0.550326\n",
      "2019-02-16  0.486443 -0.946834 -0.107968  1.371456\n",
      "2019-02-17 -0.020415 -0.375445  0.358971  0.293044\n",
      "2019-02-18 -1.032455  0.482750 -1.000288  0.915875\n"
     ]
    }
   ],
   "source": [
    "df=pd.DataFrame(np.random.randn(6,4),index=dates,columns=['a','b','c','d'])\n",
    "print(df)"
   ]
  },
  {
   "cell_type": "code",
   "execution_count": 25,
   "metadata": {},
   "outputs": [
    {
     "name": "stdout",
     "output_type": "stream",
     "text": [
      "     a   b  c  d\n",
      "0    1   2  3  1\n",
      "1    7  55  4  2\n",
      "2  835  42  5  3\n",
      "3   88  12  9  6\n",
      "     a   b  c  d\n",
      "0    1   2  3  1\n",
      "3   88  12  9  6\n",
      "2  835  42  5  3\n",
      "1    7  55  4  2\n"
     ]
    }
   ],
   "source": [
    "dict={'a':[1,7,835,88],'b':[2,55,42,12],'c':[3,4,5,9],'d':[1,2,3,6]}\n",
    "df=pd.DataFrame(dict)\n",
    "print(df)\n",
    "# print(df.dtypes)\n",
    "# print(df.index)\n",
    "# print(df.columns)\n",
    "# print(df.describe())\n",
    "# print(df.T)\n",
    "# print(df.sort_index(axis=1,ascending=False))\n",
    "# print(df.sort_index(axis=0,ascending=False))\n",
    "print(df.sort_values(by='b'))"
   ]
  },
  {
   "cell_type": "code",
   "execution_count": 53,
   "metadata": {},
   "outputs": [
    {
     "name": "stdout",
     "output_type": "stream",
     "text": [
      "             a   b   c   d\n",
      "2019-02-13   0   1   2   3\n",
      "2019-02-14   4   5   6   7\n",
      "2019-02-15   8   9  10  11\n",
      "2019-02-16  12  13  14  15\n",
      "2019-02-17  16  17  18  19\n",
      "2019-02-18  20  21  22  23\n"
     ]
    }
   ],
   "source": [
    "#pandas选择数据，类似于列表索引用[]\n",
    "dates=pd.date_range('20190213',periods=6)\n",
    "df=pd.DataFrame(np.arange(24).reshape((6,4)),index=dates,columns=['a','b','c','d'])\n",
    "print(df)\n",
    "# print(df['a'])\n",
    "# print(df.a)\n",
    "# print(df[0:3])\n"
   ]
  },
  {
   "cell_type": "code",
   "execution_count": 54,
   "metadata": {},
   "outputs": [
    {
     "name": "stdout",
     "output_type": "stream",
     "text": [
      "a     8\n",
      "b     9\n",
      "c    10\n",
      "d    11\n",
      "Name: 2019-02-15 00:00:00, dtype: int32\n",
      "             a   b\n",
      "2019-02-13   0   1\n",
      "2019-02-14   4   5\n",
      "2019-02-15   8   9\n",
      "2019-02-16  12  13\n",
      "2019-02-17  16  17\n",
      "2019-02-18  20  21\n",
      "a    8\n",
      "b    9\n",
      "Name: 2019-02-15 00:00:00, dtype: int32\n"
     ]
    }
   ],
   "source": [
    "#通过标签选择(loc)\n",
    "print(df.loc['20190215'])\n",
    "print(df.loc[:,['a','b']])\n",
    "print(df.loc['20190215',['a','b']])\n"
   ]
  },
  {
   "cell_type": "code",
   "execution_count": 55,
   "metadata": {},
   "outputs": [
    {
     "name": "stdout",
     "output_type": "stream",
     "text": [
      "             a   b   c   d\n",
      "2019-02-13   0   1   2   3\n",
      "2019-02-14   4   5   6   7\n",
      "2019-02-15   8   9  10  11\n",
      "2019-02-16  12  13  14  15\n",
      "2019-02-17  16  17  18  19\n",
      "2019-02-18  20  21  22  23\n",
      "2019-02-14    6\n",
      "Freq: D, Name: c, dtype: int32\n",
      "2019-02-14     7\n",
      "2019-02-16    15\n",
      "2019-02-18    23\n",
      "Freq: 2D, Name: d, dtype: int32\n"
     ]
    }
   ],
   "source": [
    "#通过位置选择（iloc）\n",
    "print(df)\n",
    "print(df.iloc[1:2,2])\n",
    "print(df.iloc[[1,3,5],3])"
   ]
  },
  {
   "cell_type": "code",
   "execution_count": 56,
   "metadata": {},
   "outputs": [
    {
     "name": "stdout",
     "output_type": "stream",
     "text": [
      "             c  a\n",
      "2019-02-13   2  0\n",
      "2019-02-14   6  4\n",
      "2019-02-15  10  8\n"
     ]
    },
    {
     "name": "stderr",
     "output_type": "stream",
     "text": [
      "C:\\ProgramData\\Anaconda3\\lib\\site-packages\\ipykernel_launcher.py:2: DeprecationWarning: \n",
      ".ix is deprecated. Please use\n",
      ".loc for label based indexing or\n",
      ".iloc for positional indexing\n",
      "\n",
      "See the documentation here:\n",
      "http://pandas.pydata.org/pandas-docs/stable/indexing.html#ix-indexer-is-deprecated\n",
      "  \n"
     ]
    }
   ],
   "source": [
    "#通过位置与标签选择（ix）\n",
    "print(df.ix[:3,['c','a']])"
   ]
  },
  {
   "cell_type": "code",
   "execution_count": 57,
   "metadata": {},
   "outputs": [
    {
     "name": "stdout",
     "output_type": "stream",
     "text": [
      "             a   b   c   d\n",
      "2019-02-13   0   1   2   3\n",
      "2019-02-14   4   5   6   7\n",
      "2019-02-15   8   9  10  11\n",
      "2019-02-16  12  13  14  15\n",
      "2019-02-17  16  17  18  19\n",
      "2019-02-18  20  21  22  23\n",
      "             a   b   c   d\n",
      "2019-02-16  12  13  14  15\n",
      "2019-02-17  16  17  18  19\n",
      "2019-02-18  20  21  22  23\n"
     ]
    }
   ],
   "source": [
    "#是或否选择\n",
    "print(df)\n",
    "print(df[df.a>8])"
   ]
  },
  {
   "cell_type": "code",
   "execution_count": 58,
   "metadata": {},
   "outputs": [
    {
     "name": "stdout",
     "output_type": "stream",
     "text": [
      "             a   b   c   d\n",
      "2019-02-13   0   1   2   3\n",
      "2019-02-14   4   5   6   7\n",
      "2019-02-15   8   9  10  11\n",
      "2019-02-16  12  13  14  15\n",
      "2019-02-17  16  17  18  19\n",
      "2019-02-18  20  21  22  23\n"
     ]
    }
   ],
   "source": [
    "#pandas设置值\n",
    "dates=pd.date_range('20190213',periods=6)\n",
    "df=pd.DataFrame(np.arange(24).reshape((6,4)),index=dates,columns=['a','b','c','d'])\n",
    "print(df)\n",
    "# df.iloc[0,0]=12581\n",
    "# print(df)"
   ]
  },
  {
   "cell_type": "code",
   "execution_count": 59,
   "metadata": {},
   "outputs": [
    {
     "name": "stdout",
     "output_type": "stream",
     "text": [
      "                a   b   c   d\n",
      "2019-02-13      0   1   2   3\n",
      "2019-02-14      4   5   6   7\n",
      "2019-02-15  12581   9  10  11\n",
      "2019-02-16     12  13  14  15\n",
      "2019-02-17     16  17  18  19\n",
      "2019-02-18     20  21  22  23\n"
     ]
    }
   ],
   "source": [
    "df.loc['20190215','a']=12581\n",
    "print(df)"
   ]
  },
  {
   "cell_type": "code",
   "execution_count": 60,
   "metadata": {},
   "outputs": [
    {
     "name": "stdout",
     "output_type": "stream",
     "text": [
      "            a   b   c   d\n",
      "2019-02-13  0   1   2   3\n",
      "2019-02-14  4   5   6   7\n",
      "2019-02-15  0   9  10  11\n",
      "2019-02-16  0  13  14  15\n",
      "2019-02-17  0  17  18  19\n",
      "2019-02-18  0  21  22  23\n"
     ]
    }
   ],
   "source": [
    "# df[df.a>4]=0\n",
    "# print(df)\n",
    "df.a[df.a>4]=0\n",
    "print(df)"
   ]
  },
  {
   "cell_type": "code",
   "execution_count": 61,
   "metadata": {},
   "outputs": [
    {
     "name": "stdout",
     "output_type": "stream",
     "text": [
      "            a   b   c   d   e\n",
      "2019-02-13  0   1   2   3 NaN\n",
      "2019-02-14  4   5   6   7 NaN\n",
      "2019-02-15  0   9  10  11 NaN\n",
      "2019-02-16  0  13  14  15 NaN\n",
      "2019-02-17  0  17  18  19 NaN\n",
      "2019-02-18  0  21  22  23 NaN\n",
      "            a   b   c   d   e  f\n",
      "2019-02-13  0   1   2   3 NaN  1\n",
      "2019-02-14  4   5   6   7 NaN  2\n",
      "2019-02-15  0   9  10  11 NaN  3\n",
      "2019-02-16  0  13  14  15 NaN  4\n",
      "2019-02-17  0  17  18  19 NaN  5\n",
      "2019-02-18  0  21  22  23 NaN  6\n"
     ]
    }
   ],
   "source": [
    "df['e']=np.nan\n",
    "print(df)\n",
    "df['f']=pd.Series([1,2,3,4,5,6],index=dates)\n",
    "print(df)"
   ]
  },
  {
   "cell_type": "code",
   "execution_count": 67,
   "metadata": {},
   "outputs": [
    {
     "name": "stdout",
     "output_type": "stream",
     "text": [
      "               a   b   c     d\n",
      "2019-02-13   NaN   1   2   3.0\n",
      "2019-02-14   4.0   5   6   7.0\n",
      "2019-02-15   8.0   9  10  11.0\n",
      "2019-02-16  12.0  13  14  15.0\n",
      "2019-02-17  16.0  17  18  19.0\n",
      "2019-02-18  20.0  21  22   NaN\n",
      "               a   b   c     d\n",
      "2019-02-14   4.0   5   6   7.0\n",
      "2019-02-15   8.0   9  10  11.0\n",
      "2019-02-16  12.0  13  14  15.0\n",
      "2019-02-17  16.0  17  18  19.0\n",
      "             b   c\n",
      "2019-02-13   1   2\n",
      "2019-02-14   5   6\n",
      "2019-02-15   9  10\n",
      "2019-02-16  13  14\n",
      "2019-02-17  17  18\n",
      "2019-02-18  21  22\n",
      "             b   c\n",
      "2019-02-13   1   2\n",
      "2019-02-14   5   6\n",
      "2019-02-15   9  10\n",
      "2019-02-16  13  14\n",
      "2019-02-17  17  18\n",
      "2019-02-18  21  22\n",
      "               a   b   c     d\n",
      "2019-02-13   NaN   1   2   3.0\n",
      "2019-02-14   4.0   5   6   7.0\n",
      "2019-02-15   8.0   9  10  11.0\n",
      "2019-02-16  12.0  13  14  15.0\n",
      "2019-02-17  16.0  17  18  19.0\n",
      "2019-02-18  20.0  21  22   NaN\n"
     ]
    }
   ],
   "source": [
    "#pandas处理丢失数据\n",
    "#的容纳()丢掉缺失值\n",
    "dates=pd.date_range('20190213',periods=6)\n",
    "df=pd.DataFrame(np.arange(24).reshape((6,4)),index=dates,columns=['a','b','c','d'])\n",
    "df.iloc[0,0]=np.nan\n",
    "df.iloc[5,3]=np.nan\n",
    "print(df)\n",
    "print(df.dropna(axis=0))  #丢掉NaN所在行\n",
    "print(df.dropna(axis=1)) #丢掉NaN所在列\n",
    "print(df.dropna(axis=1,how='any'))\n",
    "print(df.dropna(axis=1,how='all'))\n"
   ]
  },
  {
   "cell_type": "code",
   "execution_count": 73,
   "metadata": {},
   "outputs": [
    {
     "name": "stdout",
     "output_type": "stream",
     "text": [
      "               a   b   c     d\n",
      "2019-02-13   0.0   1   2   3.0\n",
      "2019-02-14   4.0   5   6   7.0\n",
      "2019-02-15   8.0   9  10  11.0\n",
      "2019-02-16  12.0  13  14  15.0\n",
      "2019-02-17  16.0  17  18  19.0\n",
      "2019-02-18  20.0  21  22   0.0\n"
     ]
    }
   ],
   "source": [
    "#fillna()填充缺失值\n",
    "print(df.fillna(value=0))"
   ]
  },
  {
   "cell_type": "code",
   "execution_count": 75,
   "metadata": {},
   "outputs": [
    {
     "name": "stdout",
     "output_type": "stream",
     "text": [
      "                a      b      c      d\n",
      "2019-02-13   True  False  False  False\n",
      "2019-02-14  False  False  False  False\n",
      "2019-02-15  False  False  False  False\n",
      "2019-02-16  False  False  False  False\n",
      "2019-02-17  False  False  False  False\n",
      "2019-02-18  False  False  False   True\n",
      "True\n"
     ]
    }
   ],
   "source": [
    "#判断是否由缺失值isnull\n",
    "print(df.isnull())\n",
    "print(np.any(df.isnull())==True)"
   ]
  },
  {
   "cell_type": "code",
   "execution_count": null,
   "metadata": {},
   "outputs": [],
   "source": [
    "# pandas导入导出数据\n",
    "# 读取数据read_csv,存储数据to_csv,其他格式类似\n",
    "file=pd.read_csv('文件名')\n",
    "print(file)\n",
    "file.to_csv('路径')\n"
   ]
  },
  {
   "cell_type": "code",
   "execution_count": 81,
   "metadata": {},
   "outputs": [
    {
     "name": "stdout",
     "output_type": "stream",
     "text": [
      "     a    b    c    d\n",
      "0  0.0  0.0  0.0  0.0\n",
      "1  0.0  0.0  0.0  0.0\n",
      "2  0.0  0.0  0.0  0.0\n",
      "     a    b    c    d\n",
      "0  1.0  1.0  1.0  1.0\n",
      "1  1.0  1.0  1.0  1.0\n",
      "2  1.0  1.0  1.0  1.0\n",
      "     a    b    c    d\n",
      "0  2.0  2.0  2.0  2.0\n",
      "1  2.0  2.0  2.0  2.0\n",
      "2  2.0  2.0  2.0  2.0\n",
      "     a    b    c    d\n",
      "0  0.0  0.0  0.0  0.0\n",
      "1  0.0  0.0  0.0  0.0\n",
      "2  0.0  0.0  0.0  0.0\n",
      "3  1.0  1.0  1.0  1.0\n",
      "4  1.0  1.0  1.0  1.0\n",
      "5  1.0  1.0  1.0  1.0\n",
      "6  2.0  2.0  2.0  2.0\n",
      "7  2.0  2.0  2.0  2.0\n",
      "8  2.0  2.0  2.0  2.0\n"
     ]
    }
   ],
   "source": [
    "#pandas数据合并\n",
    "#concat()合并\n",
    "df1=pd.DataFrame(np.zeros((3,4)),columns=['a','b','c','d'])\n",
    "df2=pd.DataFrame(np.ones((3,4)),columns=['a','b','c','d'])\n",
    "df3=pd.DataFrame(np.ones((3,4))*2,columns=['a','b','c','d'])\n",
    "print(df1)\n",
    "print(df2)\n",
    "print(df3)\n",
    "res=pd.concat([df1,df2,df3],axis=0,ignore_index=True)\n",
    "print(res)\n"
   ]
  },
  {
   "cell_type": "code",
   "execution_count": 88,
   "metadata": {},
   "outputs": [
    {
     "name": "stdout",
     "output_type": "stream",
     "text": [
      "     a    b    c    d\n",
      "1  0.0  0.0  0.0  0.0\n",
      "2  0.0  0.0  0.0  0.0\n",
      "3  0.0  0.0  0.0  0.0\n",
      "     b    c    d    e\n",
      "2  1.0  1.0  1.0  1.0\n",
      "3  1.0  1.0  1.0  1.0\n",
      "4  1.0  1.0  1.0  1.0\n",
      "     a    b    c    d    e\n",
      "1  0.0  0.0  0.0  0.0  NaN\n",
      "2  0.0  0.0  0.0  0.0  NaN\n",
      "3  0.0  0.0  0.0  0.0  NaN\n",
      "2  NaN  1.0  1.0  1.0  1.0\n",
      "3  NaN  1.0  1.0  1.0  1.0\n",
      "4  NaN  1.0  1.0  1.0  1.0\n",
      "     b    c    d\n",
      "0  0.0  0.0  0.0\n",
      "1  0.0  0.0  0.0\n",
      "2  0.0  0.0  0.0\n",
      "3  1.0  1.0  1.0\n",
      "4  1.0  1.0  1.0\n",
      "5  1.0  1.0  1.0\n"
     ]
    }
   ],
   "source": [
    "#concat中的属性join['inner','outer']\n",
    "df1=pd.DataFrame(np.zeros((3,4)),index=[1,2,3],columns=['a','b','c','d'])\n",
    "df2=pd.DataFrame(np.ones((3,4)),index=[2,3,4],columns=['b','c','d','e'])\n",
    "print(df1)\n",
    "print(df2)\n",
    "print(pd.concat([df1,df2],axis=0,sort=True,join='outer'))\n",
    "print(pd.concat([df1,df2],axis=0,sort=False,join='inner',ignore_index=True))\n"
   ]
  },
  {
   "cell_type": "code",
   "execution_count": 90,
   "metadata": {},
   "outputs": [
    {
     "name": "stdout",
     "output_type": "stream",
     "text": [
      "     a    b    c    d    b    c    d    e\n",
      "1  0.0  0.0  0.0  0.0  NaN  NaN  NaN  NaN\n",
      "2  0.0  0.0  0.0  0.0  1.0  1.0  1.0  1.0\n",
      "3  0.0  0.0  0.0  0.0  1.0  1.0  1.0  1.0\n",
      "4  NaN  NaN  NaN  NaN  1.0  1.0  1.0  1.0\n",
      "     a    b    c    d    b    c    d    e\n",
      "1  0.0  0.0  0.0  0.0  NaN  NaN  NaN  NaN\n",
      "2  0.0  0.0  0.0  0.0  1.0  1.0  1.0  1.0\n",
      "3  0.0  0.0  0.0  0.0  1.0  1.0  1.0  1.0\n"
     ]
    }
   ],
   "source": [
    "#属性join_axes\n",
    "print(pd.concat([df1,df2],axis=1))\n",
    "print(pd.concat([df1,df2],axis=1,join_axes=[df1.index]))"
   ]
  },
  {
   "cell_type": "code",
   "execution_count": 94,
   "metadata": {},
   "outputs": [
    {
     "name": "stdout",
     "output_type": "stream",
     "text": [
      "     a    b    c    d\n",
      "0  0.0  0.0  0.0  0.0\n",
      "1  0.0  0.0  0.0  0.0\n",
      "2  0.0  0.0  0.0  0.0\n",
      "3  1.0  1.0  1.0  1.0\n",
      "4  1.0  1.0  1.0  1.0\n",
      "5  1.0  1.0  1.0  1.0\n",
      "     a    b    c    d\n",
      "0  0.0  0.0  0.0  0.0\n",
      "1  0.0  0.0  0.0  0.0\n",
      "2  0.0  0.0  0.0  0.0\n",
      "3  1.0  1.0  1.0  1.0\n",
      "4  1.0  1.0  1.0  1.0\n",
      "5  1.0  1.0  1.0  1.0\n",
      "6  2.0  2.0  2.0  2.0\n",
      "7  2.0  2.0  2.0  2.0\n",
      "8  2.0  2.0  2.0  2.0\n"
     ]
    }
   ],
   "source": [
    "#append()适用于列标签相同的情况,纵向合并\n",
    "df1=pd.DataFrame(np.zeros((3,4)),columns=['a','b','c','d'])\n",
    "df2=pd.DataFrame(np.ones((3,4)),columns=['a','b','c','d'])\n",
    "df3=pd.DataFrame(np.ones((3,4))*2,columns=['a','b','c','d'])\n",
    "res1=df1.append(df2,ignore_index=True)\n",
    "print(res1)\n",
    "res2=df1.append([df2,df3],ignore_index=True)\n",
    "print(res2)"
   ]
  },
  {
   "cell_type": "code",
   "execution_count": 98,
   "metadata": {},
   "outputs": [
    {
     "name": "stdout",
     "output_type": "stream",
     "text": [
      "     a    b    c    d\n",
      "0  0.0  0.0  0.0  0.0\n",
      "1  0.0  0.0  0.0  0.0\n",
      "2  0.0  0.0  0.0  0.0\n",
      "3  1.0  2.0  3.0  4.0\n"
     ]
    }
   ],
   "source": [
    "df1=pd.DataFrame(np.zeros((3,4)),columns=['a','b','c','d'])\n",
    "s1=pd.Series([1,2,3,4],index=['a','b','c','d'])\n",
    "res=df1.append(s1,ignore_index=True)\n",
    "print(res)"
   ]
  },
  {
   "cell_type": "code",
   "execution_count": 101,
   "metadata": {},
   "outputs": [
    {
     "name": "stdout",
     "output_type": "stream",
     "text": [
      "  key   A   B\n",
      "0  K0  A0  B0\n",
      "1  K1  A1  B1\n",
      "2  K2  A2  B2\n",
      "3  K3  A3  B3\n",
      "  key   C   D\n",
      "0  K0  C0  D0\n",
      "1  K1  C1  D1\n",
      "2  K2  C2  D2\n",
      "3  K3  C3  D3\n",
      "  key   A   B   C   D\n",
      "0  K0  A0  B0  C0  D0\n",
      "1  K1  A1  B1  C1  D1\n",
      "2  K2  A2  B2  C2  D2\n",
      "3  K3  A3  B3  C3  D3\n"
     ]
    }
   ],
   "source": [
    "#pandas中的merge合并,横向合并\n",
    "df1=pd.DataFrame({'key':['K0','K1','K2','K3'],'A':['A0','A1','A2','A3'],'B':['B0','B1','B2','B3']})\n",
    "df2=pd.DataFrame({'key':['K0','K1','K2','K3'],'C':['C0','C1','C2','C3'],'D':['D0','D1','D2','D3']})\n",
    "print(df1)\n",
    "print(df2)\n",
    "res=pd.merge(df1,df2,on='key')\n",
    "print(res)\n"
   ]
  },
  {
   "cell_type": "code",
   "execution_count": 112,
   "metadata": {},
   "outputs": [
    {
     "name": "stdout",
     "output_type": "stream",
     "text": [
      "  key1 key2   A   B\n",
      "0   K0   K0  A0  B0\n",
      "1   K0   K1  A1  B1\n",
      "2   K1   K0  A2  B2\n",
      "3   K2   K1  A3  B3\n",
      "  key1 key2   C   D\n",
      "0   K0   K0  C0  D0\n",
      "1   K1   K0  C1  D1\n",
      "2   K1   K0  C2  D2\n",
      "3   K2   K0  C3  D3\n",
      "---------------------1-----------------------\n",
      "  key1 key2   A   B   C   D\n",
      "0   K0   K0  A0  B0  C0  D0\n",
      "1   K1   K0  A2  B2  C1  D1\n",
      "2   K1   K0  A2  B2  C2  D2\n",
      "--------------------2------------------------\n",
      "  key1 key2   A   B   C   D\n",
      "0   K0   K0  A0  B0  C0  D0\n",
      "1   K1   K0  A2  B2  C1  D1\n",
      "2   K1   K0  A2  B2  C2  D2\n",
      "--------------------3------------------------\n",
      "  key1 key2    A    B    C    D\n",
      "0   K0   K0   A0   B0   C0   D0\n",
      "1   K0   K1   A1   B1  NaN  NaN\n",
      "2   K1   K0   A2   B2   C1   D1\n",
      "3   K1   K0   A2   B2   C2   D2\n",
      "4   K2   K1   A3   B3  NaN  NaN\n",
      "5   K2   K0  NaN  NaN   C3   D3\n",
      "--------------------4------------------------\n",
      "  key1 key2   A   B    C    D\n",
      "0   K0   K0  A0  B0   C0   D0\n",
      "1   K0   K1  A1  B1  NaN  NaN\n",
      "2   K1   K0  A2  B2   C1   D1\n",
      "3   K1   K0  A2  B2   C2   D2\n",
      "4   K2   K1  A3  B3  NaN  NaN\n",
      "--------------------5------------------------\n",
      "  key1 key2    A    B   C   D\n",
      "0   K0   K0   A0   B0  C0  D0\n",
      "1   K1   K0   A2   B2  C1  D1\n",
      "2   K1   K0   A2   B2  C2  D2\n",
      "3   K2   K0  NaN  NaN  C3  D3\n"
     ]
    }
   ],
   "source": [
    "#考虑两个key的情况\n",
    "df1=pd.DataFrame({'key1':['K0','K0','K1','K2'],'key2':['K0','K1','K0','K1'],'A':['A0','A1','A2','A3'],'B':['B0','B1','B2','B3']})\n",
    "df2=pd.DataFrame({'key1':['K0','K1','K1','K2'],'key2':['K0','K0','K0','K0'],'C':['C0','C1','C2','C3'],'D':['D0','D1','D2','D3']})\n",
    "print(df1)\n",
    "print(df2)\n",
    "print('---------------------1-----------------------')\n",
    "res1=pd.merge(df1,df2,on=['key1','key2'])\n",
    "print(res1)\n",
    "print('--------------------2------------------------')\n",
    "res2=pd.merge(df1,df2,on=['key1','key2'],how='inner') #how可取left,right,inner,outer\n",
    "print(res2)\n",
    "print('--------------------3------------------------')\n",
    "res3=pd.merge(df1,df2,on=['key1','key2'],how='outer')\n",
    "print(res3)\n",
    "print('--------------------4------------------------')\n",
    "res4=pd.merge(df1,df2,on=['key1','key2'],how='left') #以key1为主\n",
    "print(res4)\n",
    "print('--------------------5------------------------')\n",
    "res5=pd.merge(df1,df2,on=['key1','key2'],how='right') #以key2为主\n",
    "print(res5)"
   ]
  },
  {
   "cell_type": "code",
   "execution_count": 114,
   "metadata": {},
   "outputs": [
    {
     "name": "stdout",
     "output_type": "stream",
     "text": [
      "   col1 col_left\n",
      "0     0        a\n",
      "1     1        b\n",
      "   col1  col_right\n",
      "0     1          2\n",
      "1     2          2\n",
      "2     2          2\n",
      "   col1 col_left  col_right      _merge\n",
      "0     0        a        NaN   left_only\n",
      "1     1        b        2.0        both\n",
      "2     2      NaN        2.0  right_only\n",
      "3     2      NaN        2.0  right_only\n"
     ]
    }
   ],
   "source": [
    "df1=pd.DataFrame({'col1':[0,1],'col_left':['a','b']})\n",
    "df2=pd.DataFrame({'col1':[1,2,2],'col_right':[2,2,2]})\n",
    "print(df1)\n",
    "print(df2)\n",
    "res=pd.merge(df1,df2,on='col1',how='outer',indicator=True)\n",
    "print(res)"
   ]
  },
  {
   "cell_type": "code",
   "execution_count": 119,
   "metadata": {},
   "outputs": [
    {
     "name": "stdout",
     "output_type": "stream",
     "text": [
      "     A   B\n",
      "K0  A0  B0\n",
      "K1  A1  B1\n",
      "K2  A2  B2\n",
      "     C   D\n",
      "K0  C0  D0\n",
      "K2  C1  D1\n",
      "K3  C2  D2\n",
      "      A    B    C    D\n",
      "K0   A0   B0   C0   D0\n",
      "K1   A1   B1  NaN  NaN\n",
      "K2   A2   B2   C1   D1\n",
      "K3  NaN  NaN   C2   D2\n",
      "  key1 key2   A   B   C   D\n",
      "0   K0   K0  A0  B0  C0  D0\n",
      "1   K1   K0  A2  B2  C1  D1\n",
      "2   K1   K0  A2  B2  C2  D2\n"
     ]
    }
   ],
   "source": [
    "#不具有公共列的情况\n",
    "df1=pd.DataFrame({'A':['A0','A1','A2'],'B':['B0','B1','B2']},index=['K0','K1','K2'])\n",
    "df2=pd.DataFrame({'C':['C0','C1','C2'],'D':['D0','D1','D2']},index=['K0','K2','K3'])\n",
    "print(df1)\n",
    "print(df2)\n",
    "res1=pd.merge(df1,df2,left_index=True,right_index=True,how='outer')\n",
    "print(res1)\n"
   ]
  },
  {
   "cell_type": "code",
   "execution_count": 132,
   "metadata": {},
   "outputs": [
    {
     "name": "stdout",
     "output_type": "stream",
     "text": [
      "    k  age\n",
      "0  K0    1\n",
      "1  K1    2\n",
      "2  K2    3\n",
      "    k  age\n",
      "0  K0    4\n",
      "1  K0    5\n",
      "2  K3    6\n",
      "    k  age_x  age_y\n",
      "0  K0      1      4\n",
      "1  K0      1      5\n"
     ]
    },
    {
     "data": {
      "text/html": [
       "<div>\n",
       "<style scoped>\n",
       "    .dataframe tbody tr th:only-of-type {\n",
       "        vertical-align: middle;\n",
       "    }\n",
       "\n",
       "    .dataframe tbody tr th {\n",
       "        vertical-align: top;\n",
       "    }\n",
       "\n",
       "    .dataframe thead th {\n",
       "        text-align: right;\n",
       "    }\n",
       "</style>\n",
       "<table border=\"1\" class=\"dataframe\">\n",
       "  <thead>\n",
       "    <tr style=\"text-align: right;\">\n",
       "      <th></th>\n",
       "      <th>k</th>\n",
       "      <th>age_boy</th>\n",
       "      <th>age_girl</th>\n",
       "    </tr>\n",
       "  </thead>\n",
       "  <tbody>\n",
       "    <tr>\n",
       "      <th>0</th>\n",
       "      <td>K0</td>\n",
       "      <td>1</td>\n",
       "      <td>4</td>\n",
       "    </tr>\n",
       "    <tr>\n",
       "      <th>1</th>\n",
       "      <td>K0</td>\n",
       "      <td>1</td>\n",
       "      <td>5</td>\n",
       "    </tr>\n",
       "  </tbody>\n",
       "</table>\n",
       "</div>"
      ],
      "text/plain": [
       "    k  age_boy  age_girl\n",
       "0  K0        1         4\n",
       "1  K0        1         5"
      ]
     },
     "execution_count": 132,
     "metadata": {},
     "output_type": "execute_result"
    }
   ],
   "source": [
    "boys=pd.DataFrame({'k':['K0','K1','K2'],'age':[1,2,3]})\n",
    "girls=pd.DataFrame({'k':['K0','K0','K3'],'age':[4,5,6]})\n",
    "print(boys)\n",
    "print(girls)\n",
    "res1=pd.merge(boys,girls,on='k') #若不指定suffixes,会产生默认x,y\n",
    "print(res1)\n",
    "res2=pd.merge(boys,girls,on='k',suffixes=['_boy','_girl'],how='inner')\n",
    "res2"
   ]
  },
  {
   "cell_type": "code",
   "execution_count": 133,
   "metadata": {},
   "outputs": [
    {
     "data": {
      "text/plain": [
       "<matplotlib.axes._subplots.AxesSubplot at 0xacff130>"
      ]
     },
     "execution_count": 133,
     "metadata": {},
     "output_type": "execute_result"
    },
    {
     "data": {
      "image/png": "[encoded data removed]",
      "text/plain": [
       "<Figure size 432x288 with 1 Axes>"
      ]
     },
     "metadata": {
      "needs_background": "light"
     },
     "output_type": "display_data"
    }
   ],
   "source": [
    "#pandas的可视化\n",
    "data=pd.Series(np.random.randn(1000))\n",
    "data=data.cumsum()\n",
    "data.plot()\n",
    "\n"
   ]
  },
  {
   "cell_type": "code",
   "execution_count": 137,
   "metadata": {},
   "outputs": [
    {
     "name": "stdout",
     "output_type": "stream",
     "text": [
      "          a         b         c         d\n",
      "0 -1.219990 -0.377148  0.477788 -0.505656\n",
      "1  1.407766  0.518538 -0.711042 -1.009000\n",
      "2 -0.740415  2.019307  0.038674  0.177516\n",
      "3  0.719540 -1.196050 -0.998703 -1.581642\n",
      "4 -1.001212 -1.289513 -0.243209  0.473035\n"
     ]
    },
    {
     "data": {
      "text/plain": [
       "<matplotlib.axes._subplots.AxesSubplot at 0xc71a330>"
      ]
     },
     "execution_count": 137,
     "metadata": {},
     "output_type": "execute_result"
    },
    {
     "data": {
      "image/png": "[encoded data removed]",
      "text/plain": [
       "<Figure size 432x288 with 1 Axes>"
      ]
     },
     "metadata": {
      "needs_background": "light"
     },
     "output_type": "display_data"
    }
   ],
   "source": [
    "data=pd.DataFrame(np.random.randn(1000,4),columns=list('abcd'))\n",
    "print(data.head())\n",
    "data=data.cumsum()\n",
    "data.plot()"
   ]
  },
  {
   "cell_type": "code",
   "execution_count": null,
   "metadata": {},
   "outputs": [],
   "source": []
  }
 ],
 "metadata": {
  "kernelspec": {
   "display_name": "Python 3",
   "language": "python",
   "name": "python3"
  },
  "language_info": {
   "codemirror_mode": {
    "name": "ipython",
    "version": 3
   },
   "file_extension": ".py",
   "mimetype": "text/x-python",
   "name": "python",
   "nbconvert_exporter": "python",
   "pygments_lexer": "ipython3",
   "version": "3.7.0"
  }
 },
 "nbformat": 4,
 "nbformat_minor": 2
}
